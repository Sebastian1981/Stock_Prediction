{
 "cells": [
  {
   "cell_type": "code",
   "execution_count": 1,
   "metadata": {},
   "outputs": [],
   "source": [
    "# Let´s prototype a model to predict stock prices"
   ]
  },
  {
   "cell_type": "code",
   "execution_count": 2,
   "metadata": {},
   "outputs": [],
   "source": [
    "import pandas as pd\n",
    "import yfinance as yf"
   ]
  },
  {
   "cell_type": "code",
   "execution_count": 3,
   "metadata": {},
   "outputs": [],
   "source": [
    "# S&P500 --> '^GSPC'   \n",
    "assets = ['IBM', 'MGM', 'T', 'BA', 'GOOG', 'AAPL', 'TSLA', 'MSFT', 'FB', '^GSPC']"
   ]
  },
  {
   "cell_type": "code",
   "execution_count": 4,
   "metadata": {},
   "outputs": [
    {
     "data": {
      "text/html": [
       "<div>\n",
       "<style scoped>\n",
       "    .dataframe tbody tr th:only-of-type {\n",
       "        vertical-align: middle;\n",
       "    }\n",
       "\n",
       "    .dataframe tbody tr th {\n",
       "        vertical-align: top;\n",
       "    }\n",
       "\n",
       "    .dataframe thead th {\n",
       "        text-align: right;\n",
       "    }\n",
       "</style>\n",
       "<table border=\"1\" class=\"dataframe\">\n",
       "  <thead>\n",
       "    <tr style=\"text-align: right;\">\n",
       "      <th></th>\n",
       "      <th>Open</th>\n",
       "      <th>High</th>\n",
       "      <th>Low</th>\n",
       "      <th>Close</th>\n",
       "      <th>Volume</th>\n",
       "      <th>Dividends</th>\n",
       "      <th>Stock Splits</th>\n",
       "    </tr>\n",
       "    <tr>\n",
       "      <th>Date</th>\n",
       "      <th></th>\n",
       "      <th></th>\n",
       "      <th></th>\n",
       "      <th></th>\n",
       "      <th></th>\n",
       "      <th></th>\n",
       "      <th></th>\n",
       "    </tr>\n",
       "  </thead>\n",
       "  <tbody>\n",
       "    <tr>\n",
       "      <th>2018-12-31</th>\n",
       "      <td>90.172740</td>\n",
       "      <td>90.984318</td>\n",
       "      <td>89.448685</td>\n",
       "      <td>90.443268</td>\n",
       "      <td>5212009</td>\n",
       "      <td>0.0</td>\n",
       "      <td>0</td>\n",
       "    </tr>\n",
       "    <tr>\n",
       "      <th>2019-01-02</th>\n",
       "      <td>89.122473</td>\n",
       "      <td>92.281264</td>\n",
       "      <td>88.867864</td>\n",
       "      <td>91.668602</td>\n",
       "      <td>4434935</td>\n",
       "      <td>0.0</td>\n",
       "      <td>0</td>\n",
       "    </tr>\n",
       "    <tr>\n",
       "      <th>2019-01-03</th>\n",
       "      <td>91.127557</td>\n",
       "      <td>91.406042</td>\n",
       "      <td>89.663529</td>\n",
       "      <td>89.838577</td>\n",
       "      <td>4546648</td>\n",
       "      <td>0.0</td>\n",
       "      <td>0</td>\n",
       "    </tr>\n",
       "    <tr>\n",
       "      <th>2019-01-04</th>\n",
       "      <td>91.429904</td>\n",
       "      <td>93.482719</td>\n",
       "      <td>91.055939</td>\n",
       "      <td>93.347458</td>\n",
       "      <td>4683779</td>\n",
       "      <td>0.0</td>\n",
       "      <td>0</td>\n",
       "    </tr>\n",
       "    <tr>\n",
       "      <th>2019-01-07</th>\n",
       "      <td>93.490669</td>\n",
       "      <td>94.548907</td>\n",
       "      <td>92.830270</td>\n",
       "      <td>94.007851</td>\n",
       "      <td>3923755</td>\n",
       "      <td>0.0</td>\n",
       "      <td>0</td>\n",
       "    </tr>\n",
       "  </tbody>\n",
       "</table>\n",
       "</div>"
      ],
      "text/plain": [
       "                 Open       High        Low      Close   Volume  Dividends  \\\n",
       "Date                                                                         \n",
       "2018-12-31  90.172740  90.984318  89.448685  90.443268  5212009        0.0   \n",
       "2019-01-02  89.122473  92.281264  88.867864  91.668602  4434935        0.0   \n",
       "2019-01-03  91.127557  91.406042  89.663529  89.838577  4546648        0.0   \n",
       "2019-01-04  91.429904  93.482719  91.055939  93.347458  4683779        0.0   \n",
       "2019-01-07  93.490669  94.548907  92.830270  94.007851  3923755        0.0   \n",
       "\n",
       "            Stock Splits  \n",
       "Date                      \n",
       "2018-12-31             0  \n",
       "2019-01-02             0  \n",
       "2019-01-03             0  \n",
       "2019-01-04             0  \n",
       "2019-01-07             0  "
      ]
     },
     "execution_count": 4,
     "metadata": {},
     "output_type": "execute_result"
    }
   ],
   "source": [
    "ticker = yf.Ticker('IBM') \n",
    "\n",
    "#tsla_df = ticker.history(period=\"max\")\n",
    "\n",
    "tsla_df = ticker.history(start='2019-01-01', \n",
    "                         end='2019-12-31', \n",
    "                         back_adjust=True)\n",
    "\n",
    "tsla_df.head()"
   ]
  },
  {
   "cell_type": "code",
   "execution_count": 5,
   "metadata": {},
   "outputs": [
    {
     "data": {
      "text/plain": [
       "<AxesSubplot:title={'center':\"TSLA's stock price\"}, xlabel='Date'>"
      ]
     },
     "execution_count": 5,
     "metadata": {},
     "output_type": "execute_result"
    },
    {
     "data": {
      "image/png": "[encoded data removed]",
      "text/plain": [
       "<Figure size 432x288 with 1 Axes>"
      ]
     },
     "metadata": {
      "needs_background": "light"
     },
     "output_type": "display_data"
    }
   ],
   "source": [
    "tsla_df['Close'].plot(title=\"TSLA's stock price\")"
   ]
  },
  {
   "cell_type": "code",
   "execution_count": 6,
   "metadata": {},
   "outputs": [],
   "source": [
    "#ticker.info"
   ]
  },
  {
   "cell_type": "code",
   "execution_count": null,
   "metadata": {},
   "outputs": [],
   "source": []
  }
 ],
 "metadata": {
  "kernelspec": {
   "display_name": "Python 3.8.10 ('stock_app')",
   "language": "python",
   "name": "python3"
  },
  "language_info": {
   "codemirror_mode": {
    "name": "ipython",
    "version": 3
   },
   "file_extension": ".py",
   "mimetype": "text/x-python",
   "name": "python",
   "nbconvert_exporter": "python",
   "pygments_lexer": "ipython3",
   "version": "3.8.10"
  },
  "orig_nbformat": 4,
  "vscode": {
   "interpreter": {
    "hash": "f3981e4caa8ceaf4cc24a7730b6396264755b92b1e4384bbc52cfc842e3c0487"
   }
  }
 },
 "nbformat": 4,
 "nbformat_minor": 2
}
